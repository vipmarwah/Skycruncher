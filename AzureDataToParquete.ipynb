{
 "cells": [
  {
   "cell_type": "markdown",
   "id": "35ebc687-2e51-4f90-a809-a3d7c42c989e",
   "metadata": {
    "tags": []
   },
   "source": [
    "## Code to fetch Azure Pricing data from Azure API and save the dataset into ADSL in CSV format "
   ]
  },
  {
   "cell_type": "code",
   "execution_count": null,
   "id": "88953550-b720-4809-9399-bc45bc8f91be",
   "metadata": {},
   "outputs": [],
   "source": [
    "import json\n",
    "import requests\n",
    "import csv\n",
    "import pathlib\n",
    "import pandas as pd\n",
    "from io import StringIO\n",
    "from io import BytesIO"
   ]
  },
  {
   "cell_type": "code",
   "execution_count": 70,
   "id": "43feaf1f-0365-469c-8bfc-b504f85e07bf",
   "metadata": {},
   "outputs": [],
   "source": [
    "import os, uuid, sys\n",
    "from azure.storage.filedatalake import DataLakeServiceClient\n",
    "from azure.core._match_conditions import MatchConditions\n",
    "from azure.storage.filedatalake._models import ContentSettings"
   ]
  },
  {
   "cell_type": "code",
   "execution_count": 71,
   "id": "aab55d32-90fe-4a3c-9412-f334342bb76e",
   "metadata": {},
   "outputs": [],
   "source": [
    "url=\"https://prices.azure.com/api/retail/prices?$filter=serviceName eq 'Virtual Machines'\"\n",
    "#AzurePricing=requests.get(url)\n"
   ]
  },
  {
   "cell_type": "code",
   "execution_count": 72,
   "id": "7b87179a-e9df-4b34-b854-9d2678f19cf3",
   "metadata": {},
   "outputs": [],
   "source": [
    "def join(a,b):\n",
    "    k=pd.merge(left=a,left_index=True, right=b,right_index=True, how='inner')\n",
    "    return k"
   ]
  },
  {
   "cell_type": "code",
   "execution_count": 156,
   "id": "92502f5a-9da9-46f5-830f-c5911efe7699",
   "metadata": {},
   "outputs": [],
   "source": [
    "def Price_Data_Extraction(url):\n",
    "    PriceData=requests.get(url)\n",
    "    PriceDataTxt=PriceData.text\n",
    "    PriceData_Json=json.loads(PriceDataTxt)\n",
    "    df_main=pd.DataFrame.from_dict(PriceData_Json)\n",
    "    url=df_main['NextPageLink'].unique()[0]\n",
    "    itemdata=[]\n",
    "    for i in df_main['Items']:\n",
    "        itemdata.append(i)\n",
    "    df_items=pd.DataFrame.from_dict(itemdata)\n",
    "    \n",
    "    PriceData=join(df_main,df_items)\n",
    "    PriceData=PriceData.drop(['Items','NextPageLink'],axis=1)\n",
    "    \n",
    "    #return df_items, df_main\n",
    "    return PriceData\n"
   ]
  },
  {
   "cell_type": "code",
   "execution_count": 74,
   "id": "2e975012-63d3-46cb-b7ee-9917f397edb2",
   "metadata": {},
   "outputs": [],
   "source": [
    "df=Price_Data_Extraction(url)\n"
   ]
  },
  {
   "cell_type": "markdown",
   "id": "1c3252fa-3c75-4b34-84a0-785dba231793",
   "metadata": {},
   "source": [
    "### Code to save dataframe into ADSL in CSV file format"
   ]
  },
  {
   "cell_type": "code",
   "execution_count": 89,
   "id": "b8fca3a0-d1bb-4a5c-b4e2-afeb96471e59",
   "metadata": {},
   "outputs": [],
   "source": [
    "def Upload_CSV_File(storage_account_name,storageaccountkey,storagecontainer,cont_directory,DataframeToCopy):\n",
    "    try:\n",
    "        storageaccountconnection = DataLakeServiceClient(account_url=\"{}://{}.dfs.core.windows.net\".format(\"https\", storage_account_name), credential=storageaccountkey)\n",
    "        \n",
    "        ContainerConnection = storageaccountconnection.get_file_system_client(file_system=storagecontainer)\n",
    "        directory_client = ContainerConnection.get_directory_client(cont_directory)\n",
    "        file_client = directory_client.create_file(\"AzureVMPricing.csv\")\n",
    "        \n",
    "        text_stream = StringIO()\n",
    "        DataframeToCopy.to_csv(text_stream)\n",
    "        file_client.upload_data(text_stream.getvalue(),overwrite=True)\n",
    "        file_client.flush_data(len(text_stream.getvalue()))\n",
    "    except Exception as e:\n",
    "      print(e)"
   ]
  },
  {
   "cell_type": "markdown",
   "id": "7ea96b68-8774-4ae6-83cd-c426166f36a2",
   "metadata": {},
   "source": [
    "## Download csv file from ADSL and convert the data into Parquet format and save it back into ADSL"
   ]
  },
  {
   "cell_type": "code",
   "execution_count": 154,
   "id": "476a1074-a527-4e5a-9c8b-1c0cd8255a73",
   "metadata": {},
   "outputs": [],
   "source": [
    "def CSV_To_Parquet_File(storage_account_name,storageaccountkey,storagecontainer,cont_directory,filenameCSV):\n",
    "    try:\n",
    "        stat=0\n",
    "        if len(filenameCSV) and filenameCSV.find(\".\")>0:\n",
    "            fname=filenameCSV.split(\".\")\n",
    "        else:\n",
    "            stat=1\n",
    "        \n",
    "        if stat==0:\n",
    "            if len(filenameCSV) and fname[1].casefold()==\"csv\" and len(fname[0]):    \n",
    "            \n",
    "                storageaccountconnection = DataLakeServiceClient(account_url=\"{}://{}.dfs.core.windows.net\".format(\"https\", storage_account_name), credential=storageaccountkey)\n",
    "        \n",
    "                ContainerConnection = storageaccountconnection.get_file_system_client(file_system=storagecontainer)\n",
    "                directory_client = ContainerConnection.get_directory_client(cont_directory)\n",
    "        \n",
    "                #file_client_read = directory_client.get_file_client(\"AzureVMPricing.csv\")\n",
    "                file_client_read = directory_client.get_file_client(filenameCSV)\n",
    "        \n",
    "                DataFile=file_client_read.download_file()\n",
    "                DataFile_bytes=download.readall()\n",
    "        \n",
    "                data = BytesIO(downloaded_bytes)\n",
    "                df_fromcsv=pd.read_csv(data)\n",
    "                df_p=pd.DataFrame(df_fromcsv).to_parquet()\n",
    "                file_client_parquet = directory_client.create_file(\"AzureVMPricing.parquet\")\n",
    "                file_client_parquet.append_data(data=df_p, offset=0, length=len(df_p))\n",
    "                file_client_parquet.flush_data(len(df_p))\n",
    "            else:\n",
    "                stat=1\n",
    "                \n",
    "        \n",
    "        if stat==1:\n",
    "            return \"Success\"\n",
    "        else:\n",
    "            return \"Invalid Filename\"\n",
    "              \n",
    "                                        \n",
    "        #return df_fromcsv\n",
    "    except Exception as e:\n",
    "      print(e)"
   ]
  },
  {
   "cell_type": "code",
   "execution_count": null,
   "id": "bdab4a0c-e074-4ea4-8b0a-4a0067d4fbea",
   "metadata": {},
   "outputs": [],
   "source": []
  }
 ],
 "metadata": {
  "kernelspec": {
   "display_name": "Python 3 (ipykernel)",
   "language": "python",
   "name": "python3"
  },
  "language_info": {
   "codemirror_mode": {
    "name": "ipython",
    "version": 3
   },
   "file_extension": ".py",
   "mimetype": "text/x-python",
   "name": "python",
   "nbconvert_exporter": "python",
   "pygments_lexer": "ipython3",
   "version": "3.9.7"
  }
 },
 "nbformat": 4,
 "nbformat_minor": 5
}
